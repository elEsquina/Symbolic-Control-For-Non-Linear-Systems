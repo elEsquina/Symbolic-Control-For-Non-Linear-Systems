{
 "cells": [
  {
   "cell_type": "code",
   "execution_count": 1,
   "metadata": {},
   "outputs": [],
   "source": [
    "import numpy as np\n",
    "import matplotlib.pyplot as plt\n",
    "from Params import *\n",
    "from Utils import *\n",
    "from Abstraction import SymbolicAbstraction\n",
    "from Controller import SymbolicController"
   ]
  },
  {
   "cell_type": "code",
   "execution_count": null,
   "metadata": {},
   "outputs": [
    {
     "name": "stdout",
     "output_type": "stream",
     "text": [
      "[1 1 1] [0 0 0] [    1   100 10000]\n",
      "1\n"
     ]
    },
    {
     "data": {
      "text/plain": [
       "array([100, 100,  30])"
      ]
     },
     "execution_count": 10,
     "metadata": {},
     "output_type": "execute_result"
    }
   ],
   "source": [
    "print(\n",
    "    coord2state(np.array([1, 1, 1]), p_x),\n",
    ")\n"
   ]
  },
  {
   "cell_type": "code",
   "execution_count": 2,
   "metadata": {},
   "outputs": [
    {
     "name": "stdout",
     "output_type": "stream",
     "text": [
      "Symbolic model 'g' loaded from 'SymbolicAbstraction.csv'\n"
     ]
    },
    {
     "data": {
      "text/plain": [
       "<Abstraction.SymbolicAbstraction at 0x1854f7360d0>"
      ]
     },
     "execution_count": 2,
     "metadata": {},
     "output_type": "execute_result"
    }
   ],
   "source": [
    "myAbs = SymbolicAbstraction(f, Jf_x, Jf_w)\n",
    "myAbs.Load(\"SymbolicAbstraction.csv\")"
   ]
  },
  {
   "cell_type": "code",
   "execution_count": 3,
   "metadata": {},
   "outputs": [
    {
     "name": "stdout",
     "output_type": "stream",
     "text": [
      "\n",
      "Iteration 1\n",
      "\n",
      "Iteration 2\n",
      "\n",
      "Iteration 3\n",
      "\n",
      "Iteration 4\n",
      "\n",
      "Iteration 5\n",
      "\n",
      "Iteration 6\n",
      "\n",
      "Iteration 7\n",
      "\n",
      "Iteration 8\n",
      "\n",
      "Iteration 9\n",
      "\n",
      "Iteration 10\n",
      "\n",
      "Iteration 11\n",
      "\n",
      "Iteration 12\n",
      "\n",
      "Iteration 13\n",
      "\n",
      "Iteration 14\n",
      "\n",
      "Iteration 15\n",
      "\n",
      "Iteration 16\n",
      "\n",
      "Iteration 17\n",
      "\n",
      "Iteration 18\n",
      "\n",
      "Iteration 19\n",
      "\n",
      "Iteration 20\n",
      "\n",
      "Iteration 21\n",
      "\n",
      "Iteration 22\n"
     ]
    },
    {
     "ename": "KeyboardInterrupt",
     "evalue": "",
     "output_type": "error",
     "traceback": [
      "\u001b[1;31m---------------------------------------------------------------------------\u001b[0m",
      "\u001b[1;31mKeyboardInterrupt\u001b[0m                         Traceback (most recent call last)",
      "Cell \u001b[1;32mIn[3], line 2\u001b[0m\n\u001b[0;32m      1\u001b[0m Control \u001b[38;5;241m=\u001b[39m SymbolicController(myAbs)\n\u001b[1;32m----> 2\u001b[0m V_result, h2_result \u001b[38;5;241m=\u001b[39m \u001b[43mControl\u001b[49m\u001b[38;5;241;43m.\u001b[39;49m\u001b[43mStart\u001b[49m\u001b[43m(\u001b[49m\u001b[43m)\u001b[49m\n",
      "File \u001b[1;32mc:\\Users\\UM6P\\Desktop\\Learning\\S1 - CI\\Computation theory\\SymbolicControl\\Controller.py:28\u001b[0m, in \u001b[0;36mStart\u001b[1;34m(self, max_iter)\u001b[0m\n",
      "File \u001b[1;32mc:\\Users\\UM6P\\Desktop\\Learning\\S1 - CI\\Computation theory\\SymbolicControl\\Controller.py:58\u001b[0m, in \u001b[0;36mSynthesisController\u001b[1;34m(self, max_iter)\u001b[0m\n",
      "File \u001b[1;32mc:\\Users\\UM6P\\Desktop\\Learning\\S1 - CI\\Computation theory\\SymbolicControl\\Utils.py:46\u001b[0m, in \u001b[0;36mcoordbox2state\u001b[1;34m(Imin, Imax, box)\u001b[0m\n\u001b[0;32m     44\u001b[0m k \u001b[38;5;241m=\u001b[39m [\u001b[38;5;28mrange\u001b[39m(Imin[i], \u001b[38;5;28mmin\u001b[39m(Imax[i] \u001b[38;5;241m+\u001b[39m \u001b[38;5;241m1\u001b[39m, box\u001b[38;5;241m.\u001b[39mshape[i])) \u001b[38;5;28;01mfor\u001b[39;00m i \u001b[38;5;129;01min\u001b[39;00m \u001b[38;5;28mrange\u001b[39m(\u001b[38;5;28mlen\u001b[39m(Imin))]\n\u001b[0;32m     45\u001b[0m L \u001b[38;5;241m=\u001b[39m box[np\u001b[38;5;241m.\u001b[39mix_(\u001b[38;5;241m*\u001b[39mk)]\n\u001b[1;32m---> 46\u001b[0m L \u001b[38;5;241m=\u001b[39m \u001b[43mL\u001b[49m\u001b[38;5;241;43m.\u001b[39;49m\u001b[43mreshape\u001b[49m\u001b[43m(\u001b[49m\u001b[38;5;241;43m-\u001b[39;49m\u001b[38;5;241;43m1\u001b[39;49m\u001b[43m,\u001b[49m\u001b[43m \u001b[49m\u001b[38;5;241;43m1\u001b[39;49m\u001b[43m)\u001b[49m\n\u001b[0;32m     47\u001b[0m \u001b[38;5;28;01mreturn\u001b[39;00m L\n",
      "\u001b[1;31mKeyboardInterrupt\u001b[0m: "
     ]
    }
   ],
   "source": [
    "Control = SymbolicController(myAbs)\n",
    "V_result, h2_result = Control.Start()"
   ]
  },
  {
   "cell_type": "code",
   "execution_count": null,
   "metadata": {},
   "outputs": [
    {
     "name": "stdout",
     "output_type": "stream",
     "text": [
      "[8 4 0]\n",
      "[0 8 0]\n",
      "[8 0 0]\n",
      "[1 4 0]\n"
     ]
    },
    {
     "name": "stderr",
     "output_type": "stream",
     "text": [
      "C:\\Users\\UM6P\\AppData\\Local\\Temp\\ipykernel_19628\\1286244034.py:60: UserWarning: No artists with labels found to put in legend.  Note that artists whose label start with an underscore are ignored when legend() is called with no argument.\n",
      "  plt.legend()\n"
     ]
    },
    {
     "data": {
      "text/plain": [
       "<matplotlib.legend.Legend at 0x2ab5a54f750>"
      ]
     },
     "execution_count": 4,
     "metadata": {},
     "output_type": "execute_result"
    },
    {
     "data": {
      "image/png": "[encoded data removed]",
      "text/plain": [
       "<Figure size 640x480 with 1 Axes>"
      ]
     },
     "metadata": {},
     "output_type": "display_data"
    }
   ],
   "source": [
    "import random\n",
    "Lab_xi = Control.Lab_xi\n",
    "\n",
    "plt.figure()\n",
    "\n",
    "for i in range(5):\n",
    "    x = np.array([random.randint(0, 9), random.randint(0, 9), 0])\n",
    "\n",
    "\n",
    "    if x[0] >= R4[0, 0] and x[0] <= R4[0, 1] and x[1] >= R4[1, 0] and x[1] <= R4[1, 1]:\n",
    "        continue\n",
    "\n",
    "    plt.plot(x[0], x[1], 'ro')\n",
    "\n",
    "    print(x)\n",
    "\n",
    "    psi = I_s\n",
    "    z = x  \n",
    "    Tx = [x]\n",
    "\n",
    "    try: \n",
    "            \n",
    "        for i in range(100):\n",
    "            psi = h1(psi, q(x), Lab_xi)\n",
    "\n",
    "            if psi == F_s[0]:\n",
    "                break\n",
    "\n",
    "            u = myAbs.val_u[:, int(h2_result[psi - 1, q(x)]) - 1]\n",
    "            w = bound_w[:, 0] + np.random.rand(3) * (bound_w[:, 1] - bound_w[:, 0])\n",
    "\n",
    "            x = f(x, u, w)\n",
    "            z = f(z, u, w)\n",
    "\n",
    "            if x[2] > np.pi:\n",
    "                x[2] -= 2 * np.pi\n",
    "            elif x[2] < -np.pi:\n",
    "                x[2] += 2 * np.pi\n",
    "            \n",
    "            Tx.append(z)\n",
    "\n",
    "        plt.plot([x[0] for x in Tx], [x[1] for x in Tx], 'b-')\n",
    "    \n",
    "    except: \n",
    "        pass\n",
    "\n",
    "\n",
    "\n",
    "\"\"\"plt.plot(R1[0, [0, 1, 1, 0, 0]], R1[1, [0, 0, 1, 1, 0]], 'y-')\n",
    "plt.plot(R2[0, [0, 1, 1, 0, 0]], R2[1, [0, 0, 1, 1, 0]], 'y-')\n",
    "plt.plot(R3[0, [0, 1, 1, 0, 0]], R3[1, [0, 0, 1, 1, 0]], 'g-', label='R3')\"\"\"\n",
    "plt.plot(R4[0, [0, 1, 1, 0, 0]], R4[1, [0, 0, 1, 1, 0]], 'r-')\n",
    "\n",
    "\"\"\"for i, region in enumerate([R1, R2, R3, R4]):\n",
    "    plt.text(region[0, 0], region[1, 0], f\"R{i+1}\", color='r')\"\"\"\n",
    "\n",
    "\n",
    "plt.xlabel('x')\n",
    "plt.ylabel('y')\n",
    "plt.legend()"
   ]
  },
  {
   "cell_type": "code",
   "execution_count": null,
   "metadata": {},
   "outputs": [],
   "source": []
  }
 ],
 "metadata": {
  "kernelspec": {
   "display_name": "Python 3",
   "language": "python",
   "name": "python3"
  },
  "language_info": {
   "codemirror_mode": {
    "name": "ipython",
    "version": 3
   },
   "file_extension": ".py",
   "mimetype": "text/x-python",
   "name": "python",
   "nbconvert_exporter": "python",
   "pygments_lexer": "ipython3",
   "version": "3.11.2"
  }
 },
 "nbformat": 4,
 "nbformat_minor": 2
}
